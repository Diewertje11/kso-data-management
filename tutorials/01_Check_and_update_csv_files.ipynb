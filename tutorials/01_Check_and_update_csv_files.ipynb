{
 "cells": [
  {
   "cell_type": "markdown",
   "id": "a82607a9",
   "metadata": {},
   "source": [
    "Latest update: 2022-11-21 15:39:25.892880"
   ]
  },
  {
   "cell_type": "markdown",
   "id": "6c481791",
   "metadata": {
    "colab_type": "text",
    "id": "view-in-github"
   },
   "source": [
    "<a href=\"https://colab.research.google.com/github/ocean-data-factory-sweden/kso-data-management/blob/main/tutorials/01_Check_and_update_csv_files.ipynb\" target=\"_parent\"><img src=\"https://colab.research.google.com/assets/colab-badge.svg\" alt=\"Open In Colab\"/></a>"
   ]
  },
  {
   "cell_type": "markdown",
   "id": "95aea466",
   "metadata": {
    "id": "95aea466"
   },
   "source": [
    "<img align=\"left\" src=\"https://panoptes-uploads.zooniverse.org/project_avatar/86c23ca7-bbaa-4e84-8d8a-876819551431.png\" type=\"image/png\" height=100 width=100>\n",
    "</img>\n",
    "\n",
    "\n",
    "<h1 align=\"right\">Colab KSO Tutorial #1: Check and update csv files</h1>\n",
    "<h3 align=\"right\">Written by KSO Team</h3>"
   ]
  },
  {
   "cell_type": "markdown",
   "id": "6f0fc779",
   "metadata": {
    "id": "6f0fc779"
   },
   "source": [
    "# Set up and requirements"
   ]
  },
  {
   "cell_type": "markdown",
   "id": "3c49080c",
   "metadata": {
    "id": "3c49080c"
   },
   "source": [
    "## Install kso_data_management and its requirements"
   ]
  },
  {
   "cell_type": "code",
   "execution_count": null,
   "id": "6b0c72a4",
   "metadata": {
    "colab": {
     "base_uri": "https://localhost:8080/"
    },
    "id": "6b0c72a4",
    "outputId": "95e46153-41a8-4d63-d5f8-9369bcad5aa1"
   },
   "outputs": [],
   "source": [
    "from IPython.display import clear_output\n",
    "\n",
    "try:\n",
    "    import google.colab\n",
    "    import os\n",
    "\n",
    "    IN_COLAB = True\n",
    "    print(\"Running in Colab...\")\n",
    "\n",
    "    # Clone kso-data-management repo\n",
    "    !git clone --quiet --recurse-submodules -b main https://github.com/ocean-data-factory-sweden/kso-data-management.git\n",
    "    !pip install -q --upgrade pip\n",
    "    !pip install -q -r kso-data-management/requirements.txt\n",
    "\n",
    "    # Fix libmagic issue\n",
    "    !apt-get -qq update && apt-get -qq install -y libmagic-dev > /dev/null\n",
    "\n",
    "    # Enable external widgets\n",
    "    from google.colab import output\n",
    "\n",
    "    output.enable_custom_widget_manager()\n",
    "\n",
    "    os.chdir(\"kso-data-management/tutorials\")\n",
    "    try:\n",
    "        clear_output()\n",
    "        print(\"All packages are installed and ready to go!\")\n",
    "    except:\n",
    "        clear_output()\n",
    "        print(\"There have been some issues installing the packages!\")\n",
    "except:\n",
    "    IN_COLAB = False\n",
    "    import sys\n",
    "\n",
    "    # Install requirements\n",
    "    !pip install -q --no-warn-script-location --upgrade pip\n",
    "    !pip install -qr ../requirements.txt\n",
    "\n",
    "    !jupyter nbextension install --user --py widgetsnbextension\n",
    "    !jupyter nbextension enable --user --py widgetsnbextension\n",
    "    !jupyter nbextension install --user --py jupyter_bbox_widget\n",
    "    !jupyter nbextension enable --user --py jupyter_bbox_widget\n",
    "    !jupyter nbextension enable --user --py ipysheet\n",
    "\n",
    "    clear_output()\n",
    "    print(\"Running locally... you're good to go!\")"
   ]
  },
  {
   "cell_type": "markdown",
   "id": "6b9b11d5",
   "metadata": {
    "id": "6b9b11d5"
   },
   "source": [
    "### Import Python packages"
   ]
  },
  {
   "cell_type": "code",
   "execution_count": null,
   "id": "46ca201f",
   "metadata": {
    "colab": {
     "base_uri": "https://localhost:8080/",
     "height": 495
    },
    "id": "46ca201f",
    "outputId": "3cf30a6f-c8f8-4238-ddf2-7195c336e14a"
   },
   "outputs": [],
   "source": [
    "# Set the directory of the libraries\n",
    "import sys, os\n",
    "from pathlib import Path\n",
    "\n",
    "# Enables testing changes in utils\n",
    "%load_ext autoreload\n",
    "%autoreload 2\n",
    "\n",
    "# Specify the path of the tutorials\n",
    "sys.path.append(\"..\")\n",
    "\n",
    "# Import required modules\n",
    "import kso_utils.tutorials_utils as t_utils\n",
    "import kso_utils.project_utils as p_utils\n",
    "import kso_utils.server_utils as s_utils\n",
    "import kso_utils.t1_utils as t1\n",
    "\n",
    "print(\"Packages loaded successfully\")"
   ]
  },
  {
   "cell_type": "markdown",
   "id": "fdc7152a",
   "metadata": {
    "id": "fdc7152a"
   },
   "source": [
    "### Choose your project"
   ]
  },
  {
   "cell_type": "code",
   "execution_count": null,
   "id": "1c1aabda",
   "metadata": {
    "id": "1c1aabda"
   },
   "outputs": [],
   "source": [
    "project_name = t_utils.choose_project()"
   ]
  },
  {
   "cell_type": "markdown",
   "id": "2URxgu8PQDZh",
   "metadata": {
    "id": "2URxgu8PQDZh"
   },
   "source": [
    "## Initiate database"
   ]
  },
  {
   "cell_type": "code",
   "execution_count": null,
   "id": "798cc9e1",
   "metadata": {},
   "outputs": [],
   "source": [
    "project = p_utils.find_project(project_name=project_name.value)"
   ]
  },
  {
   "cell_type": "code",
   "execution_count": null,
   "id": "41994eb6",
   "metadata": {
    "id": "41994eb6"
   },
   "outputs": [],
   "source": [
    "db_info_dict = t_utils.initiate_db(project)"
   ]
  },
  {
   "cell_type": "markdown",
   "id": "52f976b8",
   "metadata": {
    "id": "52f976b8"
   },
   "source": [
    "# Review Sites"
   ]
  },
  {
   "cell_type": "markdown",
   "id": "5__P6hq1QRjF",
   "metadata": {
    "id": "5__P6hq1QRjF"
   },
   "source": [
    "## Map sites and metadata"
   ]
  },
  {
   "cell_type": "code",
   "execution_count": null,
   "id": "J9Dm5_ghmJ3_",
   "metadata": {
    "id": "J9Dm5_ghmJ3_"
   },
   "outputs": [],
   "source": [
    "kso_map = t1.map_site(db_info_dict, project)\n",
    "kso_map"
   ]
  },
  {
   "cell_type": "markdown",
   "id": "RzqjZinGQVux",
   "metadata": {
    "id": "RzqjZinGQVux"
   },
   "source": [
    "## Manually update sites metadata"
   ]
  },
  {
   "cell_type": "markdown",
   "id": "L8-z6pV8LKxY",
   "metadata": {
    "id": "L8-z6pV8LKxY"
   },
   "source": [
    "Select the range of sites to display"
   ]
  },
  {
   "cell_type": "code",
   "execution_count": null,
   "id": "IQmvKQPyLR5d",
   "metadata": {
    "id": "IQmvKQPyLR5d"
   },
   "outputs": [],
   "source": [
    "sites_df, sites_range_rows, sites_range_columns = t1.select_sheet_range(\n",
    "    db_info_dict=db_info_dict, orig_csv=\"local_sites_csv\"\n",
    ")"
   ]
  },
  {
   "cell_type": "markdown",
   "id": "TTEK-ACcp41U",
   "metadata": {
    "id": "TTEK-ACcp41U"
   },
   "source": [
    "Update the contents of the cells in the spreadsheet below as needed"
   ]
  },
  {
   "cell_type": "code",
   "execution_count": null,
   "id": "9b01ccf5",
   "metadata": {
    "id": "9b01ccf5"
   },
   "outputs": [],
   "source": [
    "sites_df_filtered, sites_sheet = t1.open_csv(df=sites_df, df_range_rows=sites_range_rows,\n",
    "                                             df_range_columns=sites_range_columns)\n",
    "sites_sheet"
   ]
  },
  {
   "cell_type": "markdown",
   "id": "nUITsuBLqIx4",
   "metadata": {
    "id": "nUITsuBLqIx4"
   },
   "source": [
    "### Review and confirm the changes"
   ]
  },
  {
   "cell_type": "code",
   "execution_count": null,
   "id": "n5g_Fiq2qHdt",
   "metadata": {
    "id": "n5g_Fiq2qHdt"
   },
   "outputs": [],
   "source": [
    "# Display the changes\n",
    "highlight_changes, sites_sheet_df = t1.display_changes(\n",
    "    db_info_dict, isheet=sites_sheet, df_filtered=sites_df_filtered\n",
    ")\n",
    "highlight_changes"
   ]
  },
  {
   "cell_type": "code",
   "execution_count": null,
   "id": "H9EQfoINVwFV",
   "metadata": {
    "id": "H9EQfoINVwFV"
   },
   "outputs": [],
   "source": [
    "# Confirm or deny the changes\n",
    "t1.update_csv(\n",
    "    db_info_dict,\n",
    "    project,\n",
    "    sheet_df=sites_sheet_df,\n",
    "    df=sites_df,\n",
    "    local_csv=\"local_sites_csv\",\n",
    "    serv_csv=\"server_sites_csv\",\n",
    ")"
   ]
  },
  {
   "cell_type": "markdown",
   "id": "4b134a5c",
   "metadata": {
    "id": "4b134a5c"
   },
   "source": [
    "# Review Movies"
   ]
  },
  {
   "cell_type": "markdown",
   "id": "CtTfD4tF6ouw",
   "metadata": {
    "id": "CtTfD4tF6ouw"
   },
   "source": [
    "## Preview movies"
   ]
  },
  {
   "cell_type": "markdown",
   "id": "keLx8PPJ6_1c",
   "metadata": {
    "id": "keLx8PPJ6_1c"
   },
   "source": [
    "### Retrieve info of movies available on the server"
   ]
  },
  {
   "cell_type": "code",
   "execution_count": null,
   "id": "EDA7nDfn7EyF",
   "metadata": {
    "id": "EDA7nDfn7EyF"
   },
   "outputs": [],
   "source": [
    "available_movies_df = s_utils.retrieve_movie_info_from_server(\n",
    "    project=project, db_info_dict=db_info_dict\n",
    ")"
   ]
  },
  {
   "cell_type": "markdown",
   "id": "oSm50evA6r6E",
   "metadata": {
    "id": "oSm50evA6r6E"
   },
   "source": [
    "### Select movies to preview"
   ]
  },
  {
   "cell_type": "code",
   "execution_count": null,
   "id": "3Kbc7eYZ7JVx",
   "metadata": {
    "id": "3Kbc7eYZ7JVx"
   },
   "outputs": [],
   "source": [
    "movie_selected = t_utils.select_movie(available_movies_df)"
   ]
  },
  {
   "cell_type": "markdown",
   "id": "QfkDCyz67Mp-",
   "metadata": {
    "id": "QfkDCyz67Mp-"
   },
   "source": [
    "### Display the movie"
   ]
  },
  {
   "cell_type": "code",
   "execution_count": null,
   "id": "SbN566ha7R6n",
   "metadata": {
    "id": "SbN566ha7R6n"
   },
   "outputs": [],
   "source": [
    "movie_display, movie_path = t_utils.preview_movie(\n",
    "    project=project,\n",
    "    db_info_dict=db_info_dict,\n",
    "    available_movies_df=available_movies_df,\n",
    "    movie_i=movie_selected.value,\n",
    ")\n",
    "movie_display"
   ]
  },
  {
   "cell_type": "markdown",
   "id": "zOyenRrL5oFK",
   "metadata": {
    "id": "zOyenRrL5oFK"
   },
   "source": [
    "## Automatic check movies metadata"
   ]
  },
  {
   "cell_type": "markdown",
   "id": "LZYh0kJk8gop",
   "metadata": {
    "id": "LZYh0kJk8gop"
   },
   "source": [
    " Choose the review method"
   ]
  },
  {
   "cell_type": "code",
   "execution_count": null,
   "id": "tgKWLhdx8SmI",
   "metadata": {
    "id": "tgKWLhdx8SmI"
   },
   "outputs": [],
   "source": [
    "review_method = t1.choose_movie_review()"
   ]
  },
  {
   "cell_type": "markdown",
   "id": "w84Aav-HnaN8",
   "metadata": {
    "id": "w84Aav-HnaN8"
   },
   "source": [
    "Specify the GPU availability"
   ]
  },
  {
   "cell_type": "code",
   "execution_count": null,
   "id": "VwD4ZZ1Hnd1x",
   "metadata": {
    "id": "VwD4ZZ1Hnd1x"
   },
   "outputs": [],
   "source": [
    "gpu_available = t_utils.gpu_select()"
   ]
  },
  {
   "cell_type": "markdown",
   "id": "56Q-vAXc30di",
   "metadata": {
    "id": "56Q-vAXc30di"
   },
   "source": [
    "Check and update the movies information"
   ]
  },
  {
   "cell_type": "code",
   "execution_count": null,
   "id": "yODAkAPk3zDT",
   "metadata": {
    "id": "yODAkAPk3zDT"
   },
   "outputs": [],
   "source": [
    "t1.check_movies_csv(db_info_dict, project, review_method, gpu_available.result)"
   ]
  },
  {
   "cell_type": "markdown",
   "id": "eTe97bOn4790",
   "metadata": {
    "id": "eTe97bOn4790"
   },
   "source": [
    "## Manually update movies metadata"
   ]
  },
  {
   "cell_type": "markdown",
   "id": "OnQcVSID7C3r",
   "metadata": {
    "id": "OnQcVSID7C3r"
   },
   "source": [
    "Select the range of movies to display"
   ]
  },
  {
   "cell_type": "code",
   "execution_count": null,
   "id": "-iWD0Jf547BN",
   "metadata": {
    "id": "-iWD0Jf547BN"
   },
   "outputs": [],
   "source": [
    "movies_df, movies_range = t1.select_sheet_range(\n",
    "    db_info_dict=db_info_dict, orig_csv=\"local_movies_csv\"\n",
    ")"
   ]
  },
  {
   "cell_type": "markdown",
   "id": "bHfHY5gN7Qlq",
   "metadata": {
    "id": "bHfHY5gN7Qlq"
   },
   "source": [
    "Update the contents of the cells in the spreadsheet below as needed"
   ]
  },
  {
   "cell_type": "code",
   "execution_count": null,
   "id": "oOaC2-LE6UHv",
   "metadata": {
    "id": "oOaC2-LE6UHv"
   },
   "outputs": [],
   "source": [
    "movies_df_filtered, movies_sheet = t1.open_csv(df=movies_df, df_range=movies_range)\n",
    "movies_sheet"
   ]
  },
  {
   "cell_type": "markdown",
   "id": "7icgtX8d7ZUC",
   "metadata": {
    "id": "7icgtX8d7ZUC"
   },
   "source": [
    "### Review and confirm the changes"
   ]
  },
  {
   "cell_type": "code",
   "execution_count": null,
   "id": "izEvb7la6K7D",
   "metadata": {
    "id": "izEvb7la6K7D"
   },
   "outputs": [],
   "source": [
    "# Display the changes\n",
    "highlight_changes, movies_sheet_df = t1.display_changes(\n",
    "    db_info_dict, isheet=movies_sheet, df_filtered=movies_df_filtered\n",
    ")\n",
    "highlight_changes"
   ]
  },
  {
   "cell_type": "code",
   "execution_count": null,
   "id": "Kd7Od4VfBln5",
   "metadata": {
    "id": "Kd7Od4VfBln5"
   },
   "outputs": [],
   "source": [
    "# Confirm or deny the changes\n",
    "t1.update_csv(\n",
    "    db_info_dict,\n",
    "    project,\n",
    "    sheet_df=movies_sheet_df,\n",
    "    df=movies_df,\n",
    "    local_csv=\"local_movies_csv\",\n",
    "    serv_csv=\"server_movies_csv\",\n",
    ")"
   ]
  },
  {
   "cell_type": "markdown",
   "id": "tyKSJHRq3kog",
   "metadata": {
    "id": "tyKSJHRq3kog"
   },
   "source": [
    "# Review species"
   ]
  },
  {
   "cell_type": "markdown",
   "id": "I0le1Ammu3mG",
   "metadata": {
    "id": "I0le1Ammu3mG"
   },
   "source": [
    "## Check the species dataframe"
   ]
  },
  {
   "cell_type": "code",
   "execution_count": null,
   "id": "OTGLqqdjusy5",
   "metadata": {
    "id": "OTGLqqdjusy5"
   },
   "outputs": [],
   "source": [
    "species_sheet_df = t1.check_species_csv(db_info_dict=db_info_dict, project=project)"
   ]
  },
  {
   "cell_type": "markdown",
   "id": "yKpoX8DUvHDs",
   "metadata": {
    "id": "yKpoX8DUvHDs"
   },
   "source": [
    "## Manually update species dataframe"
   ]
  },
  {
   "cell_type": "markdown",
   "id": "OPItluO5utuy",
   "metadata": {
    "id": "OPItluO5utuy"
   },
   "source": [
    "Select the range of species to display"
   ]
  },
  {
   "cell_type": "code",
   "execution_count": null,
   "id": "b78b2738",
   "metadata": {
    "id": "b78b2738"
   },
   "outputs": [],
   "source": [
    "species_df, species_range_rows, species_range_columns = t1.select_sheet_range(\n",
    "    db_info_dict=db_info_dict, orig_csv=\"local_species_csv\"\n",
    ")"
   ]
  },
  {
   "cell_type": "markdown",
   "id": "8jkoFyRDvWwH",
   "metadata": {
    "id": "8jkoFyRDvWwH"
   },
   "source": [
    "Update the contents of the cells in the spreadsheet below as needed"
   ]
  },
  {
   "cell_type": "code",
   "execution_count": null,
   "id": "zvl2ZNO5vXYi",
   "metadata": {
    "id": "zvl2ZNO5vXYi"
   },
   "outputs": [],
   "source": [
    "species_df_filtered, species_sheet = t1.open_csv(df=species_df, \n",
    "                                                 df_range_rows=species_range_rows,\n",
    "                                                 df_range_columns=species_range_columns)\n",
    "species_sheet"
   ]
  },
  {
   "cell_type": "markdown",
   "id": "PZyfVEMRvekz",
   "metadata": {
    "id": "PZyfVEMRvekz"
   },
   "source": [
    "### Review and confirm the changes"
   ]
  },
  {
   "cell_type": "code",
   "execution_count": null,
   "id": "Niq_2WZlvlE9",
   "metadata": {
    "id": "Niq_2WZlvlE9"
   },
   "outputs": [],
   "source": [
    "# Display the changes\n",
    "highlight_changes, species_sheet_df = t1.display_changes(\n",
    "    db_info_dict, isheet=species_sheet, df_filtered=species_df_filtered\n",
    ")\n",
    "highlight_changes"
   ]
  },
  {
   "cell_type": "code",
   "execution_count": null,
   "id": "cGHj7CkKuhcC",
   "metadata": {
    "id": "cGHj7CkKuhcC"
   },
   "outputs": [],
   "source": [
    "# Confirm or deny the changes\n",
    "t1.update_csv(\n",
    "    db_info_dict,\n",
    "    project,\n",
    "    sheet_df=species_sheet_df,\n",
    "    df=species_df,\n",
    "    local_csv=\"local_species_csv\",\n",
    "    serv_csv=\"server_species_csv\",\n",
    ")"
   ]
  },
  {
   "cell_type": "code",
   "execution_count": null,
   "id": "5fc74ec0",
   "metadata": {
    "id": "5fc74ec0"
   },
   "outputs": [],
   "source": [
    "# END"
   ]
  }
 ],
 "metadata": {
  "colab": {
   "collapsed_sections": [],
   "include_colab_link": true,
   "provenance": [],
   "toc_visible": true
  },
  "kernelspec": {
   "display_name": "Python 3 (ipykernel)",
   "language": "python",
   "name": "python3"
  },
  "language_info": {
   "codemirror_mode": {
    "name": "ipython",
    "version": 3
   },
   "file_extension": ".py",
   "mimetype": "text/x-python",
   "name": "python",
   "nbconvert_exporter": "python",
   "pygments_lexer": "ipython3",
   "version": "3.8.16"
  },
  "vscode": {
   "interpreter": {
    "hash": "9f0064b85a3bc365415745ead9abb78ac240c43fe3a2a9861333bea64f4ce941"
   }
  }
 },
 "nbformat": 4,
 "nbformat_minor": 5
}
